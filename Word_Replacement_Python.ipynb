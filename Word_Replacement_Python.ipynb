{
  "nbformat": 4,
  "nbformat_minor": 0,
  "metadata": {
    "colab": {
      "provenance": [],
      "collapsed_sections": []
    },
    "kernelspec": {
      "name": "python3",
      "display_name": "Python 3"
    },
    "language_info": {
      "name": "python"
    }
  },
  "cells": [
    {
      "cell_type": "markdown",
      "source": [
        "This python program replaces a word in a string with another word of the users preference "
      ],
      "metadata": {
        "id": "Aat5SC9ZrqLN"
      }
    },
    {
      "cell_type": "code",
      "source": [
        "def word_replace():\n",
        "  \n",
        "  str = \"My favourite board games are monopoly and chess and chess \"\n",
        "  # The user then enters the word in the sentence to be replaced \n",
        "\n",
        "  word_to_replace = input(\"Enter the word you wish to replace: \")\n",
        "\n",
        "  # Finally the user enters the word to use as replacement\n",
        "  word_replacement = input(\"Enter the word to use as replacement: \")\n",
        "\n",
        "  print(str.replace(word_to_replace, word_replacement))\n",
        "\n",
        "word_replace()"
      ],
      "metadata": {
        "colab": {
          "base_uri": "https://localhost:8080/"
        },
        "id": "jKMjiQ7ht8qn",
        "outputId": "9b6499c3-de70-4efe-dd93-b6cfc62c3d73"
      },
      "execution_count": 6,
      "outputs": [
        {
          "output_type": "stream",
          "name": "stdout",
          "text": [
            "Enter the word you wish to replace: chess\n",
            "Enter the word to use as replacement: scrabble\n",
            "My favourite board games are monopoly and scrabble and scrabble \n"
          ]
        }
      ]
    },
    {
      "cell_type": "markdown",
      "source": [
        "**Another way of doing this is to make the user enter sentence by on their own and decide which words to replace**\n"
      ],
      "metadata": {
        "id": "IYautW6EudjK"
      }
    },
    {
      "cell_type": "code",
      "execution_count": 4,
      "metadata": {
        "colab": {
          "base_uri": "https://localhost:8080/"
        },
        "id": "3wFcelK1rI-Y",
        "outputId": "dca7a690-0ea0-4c7b-a138-b08e0c9c8fe9"
      },
      "outputs": [
        {
          "output_type": "stream",
          "name": "stdout",
          "text": [
            "Enter a sentence or group of words: Hi\n",
            "Enter the word you wish to replace: i\n",
            "Enter the word to use as replacement: ey\n",
            "Hey\n"
          ]
        }
      ],
      "source": [
        "def word_replace():\n",
        "  \n",
        "  # The user enters a sentence\n",
        "  str = input(\"Enter a sentence or group of words: \")\n",
        "  # The user then enters the word in the sentence to be replaced \n",
        "\n",
        "  word_to_replace = input(\"Enter the word you wish to replace: \")\n",
        "\n",
        "  # Finally the user enters the word to use as replacement\n",
        "  word_replacement = input(\"Enter the word to use as replacement: \")\n",
        "\n",
        "  print(str.replace(word_to_replace, word_replacement))\n",
        "\n",
        "word_replace()"
      ]
    }
  ]
}